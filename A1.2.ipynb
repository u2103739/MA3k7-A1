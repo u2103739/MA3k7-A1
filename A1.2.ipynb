{
 "cells": [
  {
   "cell_type": "code",
   "execution_count": 17,
   "id": "48145cd5",
   "metadata": {},
   "outputs": [
    {
     "name": "stdout",
     "output_type": "stream",
     "text": [
      "2\n",
      "5\n",
      "7\n",
      "2\n",
      "9\n",
      "1\n",
      "0\n",
      "1\n",
      "1\n",
      "2\n",
      "3\n",
      "5\n",
      "8\n",
      "3\n",
      "1\n",
      "4\n",
      "5\n",
      "9\n",
      "4\n",
      "3\n",
      "7\n",
      "0\n",
      "7\n",
      "7\n",
      "4\n",
      "1\n",
      "5\n",
      "6\n",
      "1\n",
      "7\n",
      "8\n",
      "5\n",
      "3\n",
      "8\n",
      "1\n",
      "9\n",
      "0\n",
      "9\n",
      "9\n",
      "8\n",
      "7\n",
      "5\n",
      "2\n",
      "7\n",
      "9\n",
      "6\n",
      "5\n",
      "1\n",
      "6\n",
      "7\n",
      "3\n",
      "0\n",
      "3\n",
      "3\n",
      "6\n",
      "9\n",
      "5\n",
      "4\n",
      "9\n",
      "3\n"
     ]
    }
   ],
   "source": [
    "import numpy as np\n",
    "\n",
    "#This code inputs two numbers to start with and breaks the sequence if it repeats.\n",
    "\n",
    "n = 1000\n",
    "\n",
    "seq = np.zeros(n, int)\n",
    "seq[0] = 2\n",
    "seq[1] = 5\n",
    "for i in range(n-2):\n",
    "    seq[i + 2] = seq[i + 1] + seq[i]\n",
    "    seq[i + 2] = seq[i + 2] % 10\n",
    "    print(seq[i])\n",
    "    if(seq[i + 1]== seq[0] and seq[i + 2] == seq[1]):\n",
    "        break\n"
   ]
  },
  {
   "cell_type": "code",
   "execution_count": null,
   "id": "a64f30f3",
   "metadata": {},
   "outputs": [],
   "source": []
  }
 ],
 "metadata": {
  "kernelspec": {
   "display_name": "Python 3 (ipykernel)",
   "language": "python",
   "name": "python3"
  },
  "language_info": {
   "codemirror_mode": {
    "name": "ipython",
    "version": 3
   },
   "file_extension": ".py",
   "mimetype": "text/x-python",
   "name": "python",
   "nbconvert_exporter": "python",
   "pygments_lexer": "ipython3",
   "version": "3.9.7"
  }
 },
 "nbformat": 4,
 "nbformat_minor": 5
}
